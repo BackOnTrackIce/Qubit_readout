{
 "cells": [
  {
   "cell_type": "markdown",
   "metadata": {},
   "source": [
    "# Reset and Readout of Qubit"
   ]
  },
  {
   "cell_type": "markdown",
   "metadata": {},
   "source": [
    "### Import"
   ]
  },
  {
   "cell_type": "code",
   "execution_count": 1,
   "metadata": {},
   "outputs": [],
   "source": [
    "#!pip install c3-toolset\n",
    "#!pip install matplotlib\n",
    "#!pip install plotly\n",
    "#!pip install numpy\n",
    "#!pip install --upgrade nbformat"
   ]
  },
  {
   "cell_type": "code",
   "execution_count": 1,
   "metadata": {},
   "outputs": [
    {
     "name": "stderr",
     "output_type": "stream",
     "text": [
      "2022-02-15 11:57:00.192998: W tensorflow/stream_executor/platform/default/dso_loader.cc:64] Could not load dynamic library 'libcudart.so.11.0'; dlerror: libcudart.so.11.0: cannot open shared object file: No such file or directory\n",
      "2022-02-15 11:57:00.193020: I tensorflow/stream_executor/cuda/cudart_stub.cc:29] Ignore above cudart dlerror if you do not have a GPU set up on your machine.\n"
     ]
    }
   ],
   "source": [
    "import os\n",
    "from re import I\n",
    "import numpy as np\n",
    "import copy\n",
    "import matplotlib.pyplot as plt\n",
    "import tensorflow as tf\n",
    "import tensorflow_probability as tfp\n",
    "from c3.c3objs import Quantity as Qty\n",
    "from c3.parametermap import ParameterMap as PMap\n",
    "from c3.experiment import Experiment as Exp\n",
    "from c3.model import Model as Mdl\n",
    "from c3.generator.generator import Generator as Gnr\n",
    "\n",
    "# Building blocks\n",
    "import c3.generator.devices as devices\n",
    "import c3.signal.gates as gates\n",
    "import c3.libraries.chip as chip\n",
    "import c3.signal.pulse as pulse\n",
    "import c3.libraries.tasks as tasks\n",
    "\n",
    "# Libs and helpers\n",
    "import c3.libraries.algorithms as algorithms\n",
    "import c3.libraries.hamiltonians as hamiltonians\n",
    "import c3.libraries.fidelities as fidelities\n",
    "import c3.libraries.envelopes as envelopes\n",
    "import c3.utils.qt_utils as qt_utils\n",
    "import c3.utils.tf_utils as tf_utils\n",
    "from c3.optimizers.optimalcontrol import OptimalControl\n",
    "\n",
    "import plotly.graph_objects as go\n",
    "from plotting import *\n",
    "from utilities_functions import *\n",
    "\n",
    "import scipy as sp"
   ]
  },
  {
   "cell_type": "markdown",
   "metadata": {},
   "source": [
    "### Define Qubit and resonator"
   ]
  },
  {
   "cell_type": "markdown",
   "metadata": {},
   "source": [
    "Qubit"
   ]
  },
  {
   "cell_type": "code",
   "execution_count": 2,
   "metadata": {},
   "outputs": [
    {
     "name": "stderr",
     "output_type": "stream",
     "text": [
      "2022-02-15 11:57:03.852185: W tensorflow/stream_executor/platform/default/dso_loader.cc:64] Could not load dynamic library 'libcuda.so.1'; dlerror: libcuda.so.1: cannot open shared object file: No such file or directory\n",
      "2022-02-15 11:57:03.852246: W tensorflow/stream_executor/cuda/cuda_driver.cc:269] failed call to cuInit: UNKNOWN ERROR (303)\n",
      "2022-02-15 11:57:03.852270: I tensorflow/stream_executor/cuda/cuda_diagnostics.cc:156] kernel driver does not appear to be running on this host (ashutosh-X1): /proc/driver/nvidia/version does not exist\n",
      "2022-02-15 11:57:03.852908: I tensorflow/core/platform/cpu_feature_guard.cc:151] This TensorFlow binary is optimized with oneAPI Deep Neural Network Library (oneDNN) to use the following CPU instructions in performance-critical operations:  AVX2 FMA\n",
      "To enable them in other operations, rebuild TensorFlow with the appropriate compiler flags.\n"
     ]
    }
   ],
   "source": [
    "qubit_levels = 3\n",
    "qubit_frequency = 7.86e9\n",
    "qubit_anharm = -264e6\n",
    "qubit_t1 = 27e-6\n",
    "qubit_t2star = 39e-6\n",
    "qubit_temp = 50e-3\n",
    "\n",
    "qubit = chip.Qubit(\n",
    "    name=\"Q\",\n",
    "    desc=\"Qubit\",\n",
    "    freq=Qty(value=qubit_frequency,min_val=1e9 ,max_val=8e9 ,unit='Hz 2pi'),\n",
    "    anhar=Qty(value=qubit_anharm,min_val=-380e6 ,max_val=-120e6 ,unit='Hz 2pi'),\n",
    "    hilbert_dim=qubit_levels,\n",
    "    t1=Qty(value=qubit_t1,min_val=1e-6,max_val=90e-6,unit='s'),\n",
    "    t2star=Qty(value=qubit_t2star,min_val=10e-6,max_val=90e-3,unit='s'),\n",
    "    temp=Qty(value=qubit_temp,min_val=0.0,max_val=0.12,unit='K')\n",
    ")"
   ]
  },
  {
   "cell_type": "markdown",
   "metadata": {},
   "source": [
    "Resonator"
   ]
  },
  {
   "cell_type": "code",
   "execution_count": 3,
   "metadata": {},
   "outputs": [],
   "source": [
    "resonator_levels = 10\n",
    "resonator_frequency = 6.02e9\n",
    "resonator_t1 = 27e-6\n",
    "resonator_t2star = 39e-6\n",
    "resonator_temp = 50e-3\n",
    "\n",
    "parameters_resonator = {\n",
    "    \"freq\": Qty(value=resonator_frequency,min_val=0e9 ,max_val=8e9 ,unit='Hz 2pi'),\n",
    "    \"t1\": Qty(value=resonator_t1,min_val=1e-6,max_val=90e-6,unit='s'),\n",
    "    \"t2star\": Qty(value=resonator_t2star,min_val=10e-6,max_val=90e-3,unit='s'),\n",
    "    \"temp\": Qty(value=resonator_temp,min_val=0.0,max_val=0.12,unit='K')\n",
    "}\n",
    "\n",
    "resonator = chip.ReadoutResonator(\n",
    "    name=\"R\",\n",
    "    desc=\"Resonator\",\n",
    "    hilbert_dim=resonator_levels,\n",
    "    params=parameters_resonator\n",
    ")"
   ]
  },
  {
   "cell_type": "markdown",
   "metadata": {},
   "source": [
    "Coupling"
   ]
  },
  {
   "cell_type": "code",
   "execution_count": 4,
   "metadata": {},
   "outputs": [],
   "source": [
    "coupling_strength = 130e6\n",
    "qr_coupling = chip.Coupling(\n",
    "    name=\"Q-R\",\n",
    "    desc=\"coupling\",\n",
    "    comment=\"Coupling qubit and resonator\",\n",
    "    connected=[\"Q\", \"R\"],\n",
    "    strength=Qty(\n",
    "        value=coupling_strength,\n",
    "        min_val=-1 * 1e3 ,\n",
    "        max_val=200e6 ,\n",
    "        unit='Hz 2pi'\n",
    "    ),\n",
    "    hamiltonian_func=hamiltonians.jaynes_cummings\n",
    ")"
   ]
  },
  {
   "cell_type": "markdown",
   "metadata": {},
   "source": [
    "Drives"
   ]
  },
  {
   "cell_type": "code",
   "execution_count": 5,
   "metadata": {},
   "outputs": [],
   "source": [
    "drive_qubit = chip.Drive(\n",
    "    name=\"dQ\",\n",
    "    desc=\"Drive 1\",\n",
    "    comment=\"Drive line on qubit\",\n",
    "    connected=[\"Q\"],\n",
    "    hamiltonian_func=hamiltonians.x_drive\n",
    ")\n",
    "\n",
    "drives = [drive_qubit]"
   ]
  },
  {
   "cell_type": "markdown",
   "metadata": {},
   "source": [
    "Model"
   ]
  },
  {
   "cell_type": "code",
   "execution_count": 6,
   "metadata": {},
   "outputs": [],
   "source": [
    "model = Mdl(\n",
    "    [qubit, resonator], # Individual, self-contained components\n",
    "    [drive_qubit, qr_coupling]  # Interactions between components\n",
    ")\n",
    "model.set_lindbladian(False)\n",
    "model.set_dressed(False)\n",
    "\n",
    "sim_res = 100e9\n",
    "awg_res = 2e9\n",
    "v2hz = 1e9\n",
    "\n",
    "generator = Gnr(\n",
    "        devices={\n",
    "            \"LO\": devices.LO(name='lo', resolution=sim_res, outputs=1),\n",
    "            \"AWG\": devices.AWG(name='awg', resolution=awg_res, outputs=1),\n",
    "            \"DigitalToAnalog\": devices.DigitalToAnalog(\n",
    "                name=\"dac\",\n",
    "                resolution=sim_res,\n",
    "                inputs=1,\n",
    "                outputs=1\n",
    "            ),\n",
    "            \"Response\": devices.Response(\n",
    "                name='resp',\n",
    "                rise_time=Qty(\n",
    "                    value=0.3e-9,\n",
    "                    min_val=0.05e-9,\n",
    "                    max_val=0.6e-9,\n",
    "                    unit='s'\n",
    "                ),\n",
    "                resolution=sim_res,\n",
    "                inputs=1,\n",
    "                outputs=1\n",
    "            ),\n",
    "            \"Mixer\": devices.Mixer(name='mixer', inputs=2, outputs=1),\n",
    "            \"QuadraturesToValues\": devices.QuadraturesToValues(name=\"quad_to_val\", inputs=1, outputs=1),\n",
    "            \"VoltsToHertz\": devices.VoltsToHertz(\n",
    "                name='v_to_hz',\n",
    "                V_to_Hz=Qty(\n",
    "                    value=1e9,\n",
    "                    min_val=0.9e9,\n",
    "                    max_val=1.1e9,\n",
    "                    unit='Hz/V'\n",
    "                ),\n",
    "                inputs=1,\n",
    "                outputs=1\n",
    "            )\n",
    "        },\n",
    "        chains= {\n",
    "            \"dQ\":[\"AWG\", \"DigitalToAnalog\", \"Response\", \"QuadraturesToValues\", \"VoltsToHertz\"],\n",
    "            \"R\": [\"AWG\", \"DigitalToAnalog\", \"Response\", \"QuadraturesToValues\", \"VoltsToHertz\"]\n",
    "        }\n",
    "    )\n",
    "\n",
    "generator.devices[\"AWG\"].enable_drag_2()"
   ]
  },
  {
   "cell_type": "code",
   "execution_count": 7,
   "metadata": {},
   "outputs": [
    {
     "data": {
      "text/plain": [
       "[7869139386.74453, 6010860613.25547]"
      ]
     },
     "execution_count": 7,
     "metadata": {},
     "output_type": "execute_result"
    }
   ],
   "source": [
    "model.get_qubit_freqs()"
   ]
  },
  {
   "cell_type": "code",
   "execution_count": 8,
   "metadata": {},
   "outputs": [
    {
     "data": {
      "image/png": "[encoded data removed]",
      "text/plain": [
       "<Figure size 250x500 with 1 Axes>"
      ]
     },
     "metadata": {
      "needs_background": "light"
     },
     "output_type": "display_data"
    }
   ],
   "source": [
    "def plotEnergyLevelsDressed(model):\n",
    "    model.set_dressed(True)\n",
    "    H = np.real(model.get_Hamiltonian().numpy())/(2*np.pi*1e9)\n",
    "    states_to_plot = [(0,0), (0,1), (0,2), (1,0), (1,1), (1,2), (2,0), (2,1), (2,2)]\n",
    "    state_indices = model.get_state_indeces(states_to_plot)\n",
    "    energies = [H[i,i] for i in state_indices]\n",
    "    states_diff = [(1,0), (0,1), (2,0)]\n",
    "    states_diff_index = model.get_state_indeces(states_diff)\n",
    "    states_diff_energy = [H[i,i] for i in states_diff_index]\n",
    "    energy_diff = np.abs(np.ediff1d(states_diff_energy))\n",
    "\n",
    "    x = [1]*len(states_to_plot)\n",
    "    plt.figure(figsize=(2.5,5), dpi=100)\n",
    "    plt.scatter(x, energies, s=9000, marker=\"_\", linewidth=2, zorder=3)\n",
    "    \n",
    "    cmap = plt.cm.get_cmap(\"seismic\", 4)\n",
    "\n",
    "    for xi,yi,tx in zip(x,energies,states_to_plot):\n",
    "        plt.annotate(tx, xy=(xi,yi), xytext=(30,-3), size=10,\n",
    "                    ha=\"center\",va='top', textcoords=\"offset points\")\n",
    "    for i in range(1,len(states_diff)):\n",
    "        plt.annotate(text='', xy=(1+(i-1)*0.01,states_diff_energy[i-1]), \n",
    "                    xytext=(1+(i-1)*0.01,states_diff_energy[i]), \n",
    "                    arrowprops=dict(arrowstyle='<->', shrinkA=0, shrinkB=0, color=cmap(i)))\n",
    "        plt.annotate(f\"{round(energy_diff[i-1],3)} GHz\", xy=(1,states_diff_energy[i-1]), xytext=(-30,-5 + (i-1)*40), size=10,\n",
    "                    ha=\"center\",va='top', textcoords=\"offset points\", color=cmap(i))\n",
    "\n",
    "    plt.xticks([])\n",
    "    plt.ylabel(\"Frequency in GHz\")\n",
    "    plt.savefig(\"Energy Levels.png\")\n",
    "    plt.show()\n",
    "    model.set_dressed(False)\n",
    "    model.update_model()\n",
    "\n",
    "plotEnergyLevelsDressed(model)"
   ]
  },
  {
   "cell_type": "code",
   "execution_count": 32,
   "metadata": {},
   "outputs": [
    {
     "data": {
      "image/png": "[encoded data removed]",
      "text/plain": [
       "<Figure size 250x500 with 1 Axes>"
      ]
     },
     "metadata": {
      "needs_background": "light"
     },
     "output_type": "display_data"
    }
   ],
   "source": [
    "def plotLambdaSystem(model):\n",
    "    model.set_dressed(True)\n",
    "    H = np.real(model.get_Hamiltonian().numpy())/(2*np.pi*1e9)\n",
    "    states_to_plot = [(1,0), (1,1), (0,1)]\n",
    "    state_indices = model.get_state_indeces(states_to_plot)\n",
    "    energies = [H[i,i] for i in state_indices]\n",
    "    states_diff = [(1,0), (1,1), (0,1)]\n",
    "    states_diff_index = model.get_state_indeces(states_diff)\n",
    "    states_diff_energy = [H[i,i] for i in states_diff_index]\n",
    "    energy_diff = np.abs(np.ediff1d(states_diff_energy))\n",
    "\n",
    "    x = [1,2,3]\n",
    "    plt.figure(figsize=(2.5,5), dpi=100)\n",
    "    plt.scatter(x, energies, s=9000, marker=\"_\", linewidth=2, zorder=3)\n",
    "    \n",
    "    cmap = plt.cm.get_cmap(\"seismic\", 4)\n",
    "\n",
    "    for xi,yi,tx in zip(x,energies,states_to_plot):\n",
    "        plt.annotate(tx, xy=(xi,yi), xytext=(30,-3), size=10,\n",
    "                    ha=\"center\",va='top', textcoords=\"offset points\")\n",
    "    for i in range(1,len(states_diff)):\n",
    "        plt.annotate(text='', xy=(i,states_diff_energy[i-1]), \n",
    "                    xytext=(i+1,states_diff_energy[i]), \n",
    "                    arrowprops=dict(arrowstyle='<->', shrinkA=0, shrinkB=0, color=cmap(i)))\n",
    "        plt.annotate(f\"{round(energy_diff[i-1],3)} GHz\", xy=(i+1,states_diff_energy[i-1]), xytext=(-15, 50 - (i-1)*100), size=10,\n",
    "                    ha=\"center\",va='top', textcoords=\"offset points\", color=cmap(i))\n",
    "\n",
    "    plt.xticks([])\n",
    "    plt.ylabel(\"Frequency in GHz\")\n",
    "    plt.savefig(\"Energy Levels.png\")\n",
    "    plt.show()\n",
    "    model.set_dressed(False)\n",
    "    model.update_model()\n",
    "\n",
    "plotLambdaSystem(model)"
   ]
  },
  {
   "cell_type": "markdown",
   "metadata": {},
   "source": [
    "### Qubit X gate"
   ]
  },
  {
   "cell_type": "code",
   "execution_count": null,
   "metadata": {},
   "outputs": [],
   "source": [
    "t_X_gate = 15e-9\n",
    "sideband = 50e6\n",
    "gauss_params = {\n",
    "    \"amp\": Qty(value=0.5,min_val=0.2,max_val=0.6,unit=\"V\"),\n",
    "    \"t_final\": Qty(value=t_X_gate,min_val=0.5 * t_X_gate,max_val=1.5 * t_X_gate,unit=\"s\"),\n",
    "    \"sigma\": Qty(value=t_X_gate / 4,min_val=t_X_gate / 8,max_val=t_X_gate / 2,unit=\"s\"),\n",
    "    \"xy_angle\": Qty(value=0.0,min_val=-0.5 * np.pi,max_val=2.5 * np.pi,unit=\"rad\"),\n",
    "    \"freq_offset\": Qty(value=-sideband - 3e6,min_val=-56 * 1e6,max_val=-52 * 1e6,unit=\"Hz 2pi\"),\n",
    "    \"delta\": Qty(value=-1,min_val=-5,max_val=3,unit=\"\")\n",
    "}\n",
    "\n",
    "gauss_pulse = pulse.Envelope(\n",
    "    name=\"gauss\",\n",
    "    desc=\"Gaussian comp for single qubit gates\",\n",
    "    params=gauss_params,\n",
    "    shape=envelopes.gaussian_nonorm\n",
    ")\n",
    "\n",
    "nodrive_pulse = pulse.Envelope(\n",
    "    name=\"no_drive\",\n",
    "    params={\n",
    "        \"t_final\": Qty(\n",
    "            value=t_X_gate,\n",
    "            min_val=0.5 * t_X_gate,\n",
    "            max_val=1.5 * t_X_gate,\n",
    "            unit=\"s\"\n",
    "        )\n",
    "    },\n",
    "    shape=envelopes.no_drive\n",
    ")\n",
    "\n",
    "## Create carriers\n",
    "qubit_freqs = model.get_qubit_freqs()\n",
    "carriers = createCarriers(qubit_freqs, sideband)\n",
    "\n",
    "qubit_pulse = copy.deepcopy(gauss_pulse)\n",
    "resonator_pulse = copy.deepcopy(nodrive_pulse)\n",
    "X_gate = gates.Instruction(\n",
    "    name=\"x\", targets=[0], t_start=0.0, t_end=t_X_gate, channels=[\"dQ\", \"dR\"]\n",
    ")\n",
    "X_gate.add_component(qubit_pulse, \"dQ\")\n",
    "X_gate.add_component(copy.deepcopy(carriers[0]), \"dQ\")\n",
    "X_gate.add_component(resonator_pulse, \"dR\")\n",
    "X_gate.add_component(copy.deepcopy(carriers[1]), \"dR\")\n",
    "\n",
    "single_q_gates = [X_gate]"
   ]
  },
  {
   "cell_type": "code",
   "execution_count": null,
   "metadata": {},
   "outputs": [],
   "source": [
    "parameter_map = PMap(instructions=single_q_gates, model=model, generator=generator)\n",
    "exp = Exp(pmap=parameter_map)\n",
    "exp.set_opt_gates(['x[0]'])\n",
    "unitaries = exp.compute_propagators()\n",
    "\n",
    "psi_init = [[0] * model.tot_dim]\n",
    "psi_init[0][0] = 1\n",
    "init_state = tf.transpose(tf.constant(psi_init, tf.complex128))\n",
    "sequence = ['x[0]']\n",
    "plotPopulation(exp=exp, psi_init=init_state, sequence=sequence, usePlotly=False)"
   ]
  },
  {
   "cell_type": "markdown",
   "metadata": {},
   "source": [
    "Optimize the X gate"
   ]
  },
  {
   "cell_type": "code",
   "execution_count": null,
   "metadata": {},
   "outputs": [],
   "source": [
    "parameter_map.set_opt_map([\n",
    "    [(\"x[0]\", \"dQ\", \"gauss\", \"amp\")],\n",
    "    [(\"x[0]\", \"dQ\", \"gauss\", \"freq_offset\")],\n",
    "    [(\"x[0]\", \"dQ\", \"gauss\", \"xy_angle\")],\n",
    "    [(\"x[0]\", \"dQ\", \"gauss\", \"delta\")],\n",
    "    [(\"x[0]\", \"dR\", \"carrier\", \"framechange\")]\n",
    "])\n",
    "\n",
    "parameter_map.print_parameters()\n",
    "\n",
    "opt = OptimalControl(\n",
    "    dir_path=\"./output/\",\n",
    "    fid_func=fidelities.average_infid_set,\n",
    "    fid_subspace=[\"Q\", \"R\"],\n",
    "    pmap=parameter_map,\n",
    "    algorithm=algorithms.lbfgs,\n",
    "    options={\"maxfun\": 150},\n",
    "    run_name=\"better_x\"\n",
    ")\n",
    "exp.set_opt_gates([\"x[0]\"])\n",
    "opt.set_exp(exp)\n",
    "\n",
    "opt.optimize_controls()\n",
    "opt.current_best_goal\n",
    "\n",
    "plotPopulation(exp=exp, psi_init=init_state, sequence=sequence, usePlotly=Fasle)\n"
   ]
  },
  {
   "cell_type": "markdown",
   "metadata": {},
   "source": [
    "### Readout of Resonator"
   ]
  },
  {
   "cell_type": "code",
   "execution_count": null,
   "metadata": {},
   "outputs": [],
   "source": [
    "def calculateState(\n",
    "    exp: Experiment,\n",
    "    psi_init: tf.Tensor,\n",
    "    sequence: List[str]\n",
    "):\n",
    "\n",
    "    \"\"\"\n",
    "    Calculates the state of system with time.\n",
    "\n",
    "    Parameters\n",
    "    ----------\n",
    "    exp: Experiment,\n",
    "        The experiment containing the model and propagators\n",
    "    psi_init: tf.Tensor,\n",
    "        Initial state vector\n",
    "    sequence: List[str]\n",
    "        List of gate names that will be applied to the state\n",
    "\n",
    "    Returns\n",
    "    -------\n",
    "    psi_list: List[tf.Tensor]\n",
    "        List of states\n",
    "    \"\"\"\n",
    "\n",
    "    model = exp.pmap.model\n",
    "    dUs = exp.partial_propagators\n",
    "    psi_t = psi_init.numpy()\n",
    "    psi_list = [psi_t]\n",
    "    for gate in sequence:\n",
    "        for du in dUs[gate]:\n",
    "            psi_t = np.matmul(du, psi_t)\n",
    "            psi_list.append(psi_t)\n",
    "\n",
    "    return psi_list\n",
    "\n",
    "def calculateExpectationValue(states, Op):\n",
    "    expect_val = []\n",
    "    for i in states:\n",
    "        expect_val.append(np.matmul(np.matmul(i.T.conj(), Op.numpy()),i)[0,0])\n",
    "    return expect_val\n",
    "\n",
    "def plotNumberOperator(\n",
    "    exp: Experiment, \n",
    "    init_state: tf.Tensor,\n",
    "    sequence: List[str]\n",
    "):\n",
    "    model = exp.pmap.model\n",
    "    psi_list = calculateState(exp, init_state, sequence)\n",
    "\n",
    "    aR = tf.convert_to_tensor(model.ann_opers[1], dtype=tf.complex128)\n",
    "    aR_dag = tf.transpose(aR, conjugate=True)\n",
    "    NR = tf.matmul(aR_dag,aR)\n",
    "    expect_val_R = calculateExpectationValue(psi_list, NR)\n",
    "\n",
    "    aQ = tf.convert_to_tensor(model.ann_opers[0], dtype=tf.complex128)\n",
    "    aQ_dag = tf.transpose(aQ, conjugate=True)\n",
    "    NQ = tf.matmul(aQ_dag, aQ)\n",
    "    expect_val_Q = calculateExpectationValue(psi_list, NQ)\n",
    "\n",
    "\n",
    "    ts = exp.ts\n",
    "\n",
    "    fig = go.Figure()\n",
    "    fig.add_trace(go.Scatter(x = ts, y = np.real(expect_val_R), mode = \"lines\", name=\"Resonator\"))\n",
    "    fig.add_trace(go.Scatter(x = ts, y = np.real(expect_val_Q), mode = \"lines\", name=\"Qubit\"))\n",
    "    fig.show()\n",
    "\n",
    "def frameOfDrive(exp, psi_list, freq):\n",
    "    model = exp.pmap.model\n",
    "    aR = tf.convert_to_tensor(model.ann_opers[1], dtype = tf.complex128)\n",
    "    aQ = tf.convert_to_tensor(model.ann_opers[0], dtype = tf.complex128)\n",
    "\n",
    "    n = len(psi_list)\n",
    "\n",
    "    aR_dag = tf.transpose(aR, conjugate=True)\n",
    "    NR = tf.matmul(aR_dag,aR)\n",
    "\n",
    "    aQ_dag = tf.transpose(aQ, conjugate=True)\n",
    "    NQ = tf.matmul(aQ_dag, aQ)\n",
    "\n",
    "    dt = (exp.ts[1] - exp.ts[0]).numpy()\n",
    "    ts = np.linspace(0.0, dt*n, n)\n",
    "\n",
    "    I = tf.eye(len(aR), dtype=tf.complex128)\n",
    "\n",
    "    psi_rotated = []\n",
    "    \n",
    "    for i in range(n):\n",
    "        U = tf.linalg.expm(1j*2*np.pi*freq*(NR + NQ)*ts[i]).numpy()\n",
    "        psi_rotated.append(np.matmul(U, psi_list[i]))\n",
    "\n",
    "    return psi_rotated\n",
    "\n",
    "def ptraceTwoSubsystems(exp, state, trace_index):\n",
    "    dims = exp.pmap.model.dims\n",
    "    dims_remaining = [i for i in dims if i != dims[trace_index]]\n",
    "    print(dims_remaining)\n",
    "    state_dag = tf.transpose(state, conjugate=True)\n",
    "    dm = tf.matmul(state, state_dag)\n",
    "    dm_ptrace = np.zeros((np.prod(dims_remaining),np.prod(dims_remaining)), dtype=np.complex128)\n",
    "    \n",
    "    for i in range(np.prod(dims_remaining)):\n",
    "        for j in range(np.prod(dims_remaining)):\n",
    "            dm_ptrace[i,j] = np.sum([dm[i+x*dims_remaining[0],j+x*dims_remaining[0]] for x in range(dims[trace_index])])\n",
    "\n",
    "    return dm_ptrace\n",
    "\n",
    "\n",
    "def plotIQ(\n",
    "        exp: Experiment, \n",
    "        sequence: List[str], \n",
    "        annihilation_operator: tf.Tensor\n",
    "):\n",
    "    \n",
    "    \"\"\"\n",
    "    Calculate and plot the I-Q values for resonator \n",
    "\n",
    "    Parameters\n",
    "    ----------\n",
    "    exp: Experiment,\n",
    " \n",
    "    sequence: List[str], \n",
    "\n",
    "    annihilation_operator: tf.Tensor\n",
    "\n",
    "\n",
    "    Returns\n",
    "    -------\n",
    "        \n",
    "    \"\"\"\n",
    "    model = exp.pmap.model\n",
    "    annihilation_operator = tf.convert_to_tensor(annihilation_operator, dtype=tf.complex128)\n",
    "    \n",
    "    state_index = exp.pmap.model.get_state_index((0,0))\n",
    "    psi_init_0 = [[0] * model.tot_dim]\n",
    "    psi_init_0[0][state_index] = 1\n",
    "    init_state_0 = tf.transpose(tf.constant(psi_init_0, tf.complex128))\n",
    "    \n",
    "    psi_list = calculateState(exp, init_state_0, sequence)\n",
    "    psi_list_0 =  frameOfDrive(exp, psi_list, resonator_frequency)\n",
    "    expect_val_0 = calculateExpectationValue(psi_list_0, annihilation_operator)\n",
    "    Q0 = np.real(expect_val_0)\n",
    "    I0 = np.imag(expect_val_0)\n",
    "    \n",
    "\n",
    "    state_index = exp.pmap.model.get_state_index((1,0))\n",
    "    psi_init_1 = [[0] * model.tot_dim]\n",
    "    psi_init_1[0][state_index] = 1\n",
    "    init_state_1 = tf.transpose(tf.constant(psi_init_1, tf.complex128))\n",
    "    \n",
    "    psi_list = calculateState(exp, init_state_1, sequence)\n",
    "    psi_list_1 =  frameOfDrive(exp, psi_list, resonator_frequency)\n",
    "    expect_val_1 = calculateExpectationValue(psi_list_1, annihilation_operator)\n",
    "    Q1 = np.real(expect_val_1)\n",
    "    I1 = np.imag(expect_val_1)\n",
    "\n",
    "    fig = go.Figure()\n",
    "    fig.add_trace(go.Scatter(x = Q0, y = I0, mode = \"lines\", name=\"Ground state\"))\n",
    "    fig.add_trace(go.Scatter(x = Q1, y = I1, mode = \"lines\", name =\"Excited state\"))\n",
    "    fig.show()\n"
   ]
  },
  {
   "cell_type": "markdown",
   "metadata": {},
   "source": [
    "Define readout pulse for the resonator"
   ]
  },
  {
   "cell_type": "code",
   "execution_count": null,
   "metadata": {},
   "outputs": [],
   "source": [
    "qubit_freqs = model.get_qubit_freqs()\n",
    "sideband = 50e6\n",
    "carriers = createCarriers([0.0, 0.0], sideband)\n",
    "\n",
    "t_readout = 60e-9\n",
    "sideband = 50e6\n",
    "readout_params = {\n",
    "    \"amp\": Qty(value=2*np.pi*0.005,min_val=0.0,max_val=100.0,unit=\"V\"),\n",
    "    \"t_final\": Qty(value=t_readout,min_val=0.5 * t_readout,max_val=1.5 * t_readout,unit=\"s\"),\n",
    "    \"sigma\": Qty(value=t_readout / 4,min_val=t_readout / 8,max_val=t_readout / 2,unit=\"s\"),\n",
    "    \"xy_angle\": Qty(value=0.0,min_val=-0.5 * np.pi,max_val=2.5 * np.pi,unit=\"rad\"),\n",
    "    \"freq_offset\": Qty(value=-sideband - 3e6,min_val=-56 * 1e6,max_val=-52 * 1e6,unit=\"Hz 2pi\"),\n",
    "    \"delta\": Qty(value=-1,min_val=-5,max_val=3,unit=\"\")\n",
    "}\n",
    "\n",
    "readout_pulse = pulse.Envelope(\n",
    "    name=\"readout\",\n",
    "    desc=\"Gaussian pulse for readout\",\n",
    "    params=readout_params,\n",
    "    shape=envelopes.gaussian_nonorm\n",
    ")\n",
    "\n",
    "nodrive_pulse = pulse.Envelope(\n",
    "    name=\"no_drive\",\n",
    "    params={\n",
    "        \"t_final\": Qty(\n",
    "            value=t_readout,\n",
    "            min_val=0.5 * t_readout,\n",
    "            max_val=1.5 * t_readout,\n",
    "            unit=\"s\"\n",
    "        )\n",
    "    },\n",
    "    shape=envelopes.no_drive\n",
    ")\n",
    "\n",
    "qubit_pulse = copy.deepcopy(nodrive_pulse)\n",
    "resonator_pulse = copy.deepcopy(readout_pulse)\n",
    "Readout_gate = gates.Instruction(\n",
    "    name=\"Readout\", targets=[1], t_start=0.0, t_end=t_readout, channels=[\"R\", \"dQ\"]\n",
    ")\n",
    "Readout_gate.add_component(qubit_pulse, \"dQ\")\n",
    "Readout_gate.add_component(copy.deepcopy(carriers[0]), \"dQ\")\n",
    "Readout_gate.add_component(resonator_pulse, \"R\")\n",
    "Readout_gate.add_component(copy.deepcopy(carriers[1]), \"R\")\n",
    "\n",
    "readout_gates = [Readout_gate]"
   ]
  },
  {
   "cell_type": "code",
   "execution_count": null,
   "metadata": {},
   "outputs": [],
   "source": [
    "parameter_map = PMap(instructions=readout_gates, model=model, generator=generator)\n",
    "exp = Exp(pmap=parameter_map)\n",
    "\n",
    "model.use_FR = False\n",
    "exp.use_control_fields = False\n",
    "\n",
    "exp.set_opt_gates(['Readout[1]'])\n",
    "unitaries = exp.compute_propagators()\n",
    "\n",
    "psi_init = [[0] * model.tot_dim]\n",
    "psi_init[0][0] = 1\n",
    "init_state = tf.transpose(tf.constant(psi_init, tf.complex128))\n",
    "sequence = ['Readout[1]']\n",
    "plotPopulation(exp=exp, psi_init=init_state, sequence=sequence, usePlotly=False)\n"
   ]
  },
  {
   "cell_type": "code",
   "execution_count": null,
   "metadata": {},
   "outputs": [],
   "source": [
    "sig = np.loadtxt(\"signal.txt\", dtype=np.complex128)\n",
    "plt.plot(exp.ts, np.imag(sig)[1:])"
   ]
  },
  {
   "cell_type": "code",
   "execution_count": null,
   "metadata": {},
   "outputs": [],
   "source": [
    "plotNumberOperator(exp, init_state, sequence)"
   ]
  },
  {
   "cell_type": "code",
   "execution_count": null,
   "metadata": {},
   "outputs": [],
   "source": [
    "plotIQ(exp, sequence, model.ann_opers[1])"
   ]
  },
  {
   "cell_type": "markdown",
   "metadata": {},
   "source": [
    "### Qubit Resonator SWAP"
   ]
  },
  {
   "cell_type": "markdown",
   "metadata": {},
   "source": [
    "Add a resonator drive"
   ]
  },
  {
   "cell_type": "code",
   "execution_count": 9,
   "metadata": {},
   "outputs": [],
   "source": [
    "drive_resonator = chip.Drive(\n",
    "    name=\"dR\",\n",
    "    desc=\"Drive 2\",\n",
    "    comment=\"Drive line on resonator\",\n",
    "    connected=[\"R\"],\n",
    "    hamiltonian_func=hamiltonians.x_drive\n",
    ")\n",
    "\n",
    "model = Mdl(\n",
    "    [qubit, resonator], # Individual, self-contained components\n",
    "    [drive_qubit, drive_resonator, qr_coupling]  # Interactions between components\n",
    ")\n",
    "model.set_lindbladian(False)\n",
    "model.set_dressed(False)\n",
    "\n",
    "generator = Gnr(\n",
    "        devices={\n",
    "            \"LO\": devices.LO(name='lo', resolution=sim_res, outputs=1),\n",
    "            \"AWG\": devices.AWG(name='awg', resolution=awg_res, outputs=1),\n",
    "            \"DigitalToAnalog\": devices.DigitalToAnalog(\n",
    "                name=\"dac\",\n",
    "                resolution=sim_res,\n",
    "                inputs=1,\n",
    "                outputs=1\n",
    "            ),\n",
    "            \"Response\": devices.Response(\n",
    "                name='resp',\n",
    "                rise_time=Qty(\n",
    "                    value=0.3e-9,\n",
    "                    min_val=0.05e-9,\n",
    "                    max_val=0.6e-9,\n",
    "                    unit='s'\n",
    "                ),\n",
    "                resolution=sim_res,\n",
    "                inputs=1,\n",
    "                outputs=1\n",
    "            ),\n",
    "            \"Mixer\": devices.Mixer(name='mixer', inputs=2, outputs=1),\n",
    "            \"VoltsToHertz\": devices.VoltsToHertz(\n",
    "                name='v_to_hz',\n",
    "                V_to_Hz=Qty(\n",
    "                    value=1e9,\n",
    "                    min_val=0.9e9,\n",
    "                    max_val=1.1e9,\n",
    "                    unit='Hz/V'\n",
    "                ),\n",
    "                inputs=1,\n",
    "                outputs=1\n",
    "            )\n",
    "        },\n",
    "        chains= {\n",
    "            \"dQ\": [\"LO\", \"AWG\", \"DigitalToAnalog\", \"Response\", \"Mixer\", \"VoltsToHertz\"],\n",
    "            \"dR\": [\"LO\", \"AWG\", \"DigitalToAnalog\", \"Response\", \"Mixer\", \"VoltsToHertz\"]\n",
    "        }\n",
    "    )\n",
    "\n",
    "generator.devices[\"AWG\"].enable_drag_2()\n"
   ]
  },
  {
   "cell_type": "markdown",
   "metadata": {},
   "source": [
    "Define SWAP gate for qubit and resonator by using Rabi oscillations"
   ]
  },
  {
   "cell_type": "code",
   "execution_count": 1,
   "metadata": {},
   "outputs": [
    {
     "ename": "NameError",
     "evalue": "name 'Qty' is not defined",
     "output_type": "error",
     "traceback": [
      "\u001b[0;31m---------------------------------------------------------------------------\u001b[0m",
      "\u001b[0;31mNameError\u001b[0m                                 Traceback (most recent call last)",
      "\u001b[0;32m/tmp/ipykernel_58526/1297065315.py\u001b[0m in \u001b[0;36m<module>\u001b[0;34m\u001b[0m\n\u001b[1;32m      3\u001b[0m \u001b[0;34m\u001b[0m\u001b[0m\n\u001b[1;32m      4\u001b[0m swap_params = {\n\u001b[0;32m----> 5\u001b[0;31m     \u001b[0;34m\"amp\"\u001b[0m\u001b[0;34m:\u001b[0m \u001b[0mQty\u001b[0m\u001b[0;34m(\u001b[0m\u001b[0mvalue\u001b[0m\u001b[0;34m=\u001b[0m\u001b[0;36m0.1\u001b[0m\u001b[0;34m,\u001b[0m\u001b[0mmin_val\u001b[0m\u001b[0;34m=\u001b[0m\u001b[0;36m0.2\u001b[0m\u001b[0;34m,\u001b[0m\u001b[0mmax_val\u001b[0m\u001b[0;34m=\u001b[0m\u001b[0;36m1.0\u001b[0m\u001b[0;34m,\u001b[0m\u001b[0munit\u001b[0m\u001b[0;34m=\u001b[0m\u001b[0;34m\"V\"\u001b[0m\u001b[0;34m)\u001b[0m\u001b[0;34m,\u001b[0m\u001b[0;34m\u001b[0m\u001b[0;34m\u001b[0m\u001b[0m\n\u001b[0m\u001b[1;32m      6\u001b[0m     \u001b[0;34m\"t_up\"\u001b[0m\u001b[0;34m:\u001b[0m \u001b[0mQty\u001b[0m\u001b[0;34m(\u001b[0m\u001b[0mvalue\u001b[0m\u001b[0;34m=\u001b[0m\u001b[0;36m2.0e-9\u001b[0m\u001b[0;34m,\u001b[0m \u001b[0mmin_val\u001b[0m\u001b[0;34m=\u001b[0m\u001b[0;36m0.1e-9\u001b[0m\u001b[0;34m,\u001b[0m \u001b[0mmax_val\u001b[0m\u001b[0;34m=\u001b[0m\u001b[0;36m5.0e-9\u001b[0m\u001b[0;34m,\u001b[0m \u001b[0munit\u001b[0m\u001b[0;34m=\u001b[0m\u001b[0;34m\"s\"\u001b[0m\u001b[0;34m)\u001b[0m\u001b[0;34m,\u001b[0m\u001b[0;34m\u001b[0m\u001b[0;34m\u001b[0m\u001b[0m\n\u001b[1;32m      7\u001b[0m     \u001b[0;34m\"t_down\"\u001b[0m\u001b[0;34m:\u001b[0m \u001b[0mQty\u001b[0m\u001b[0;34m(\u001b[0m\u001b[0mvalue\u001b[0m\u001b[0;34m=\u001b[0m\u001b[0mt_swap_gate\u001b[0m\u001b[0;34m-\u001b[0m\u001b[0;36m2.0e-9\u001b[0m\u001b[0;34m,\u001b[0m \u001b[0mmin_val\u001b[0m\u001b[0;34m=\u001b[0m\u001b[0mt_swap_gate\u001b[0m\u001b[0;34m-\u001b[0m\u001b[0;36m5.0e-9\u001b[0m\u001b[0;34m,\u001b[0m \u001b[0mmax_val\u001b[0m\u001b[0;34m=\u001b[0m\u001b[0mt_swap_gate\u001b[0m\u001b[0;34m-\u001b[0m\u001b[0;36m0.1e-9\u001b[0m\u001b[0;34m,\u001b[0m \u001b[0munit\u001b[0m\u001b[0;34m=\u001b[0m\u001b[0;34m\"s\"\u001b[0m\u001b[0;34m)\u001b[0m\u001b[0;34m,\u001b[0m\u001b[0;34m\u001b[0m\u001b[0;34m\u001b[0m\u001b[0m\n",
      "\u001b[0;31mNameError\u001b[0m: name 'Qty' is not defined"
     ]
    }
   ],
   "source": [
    "t_swap_gate = 200e-9\n",
    "sideband = 50e6\n",
    "\n",
    "swap_params = {\n",
    "    \"amp\": Qty(value=1.0,min_val=0.2,max_val=1.0,unit=\"V\"),\n",
    "    \"t_up\": Qty(value=2.0e-9, min_val=0.1e-9, max_val=5.0e-9, unit=\"s\"),\n",
    "    \"t_down\": Qty(value=t_swap_gate-2.0e-9, min_val=t_swap_gate-5.0e-9, max_val=t_swap_gate-0.1e-9, unit=\"s\"),\n",
    "    \"risefall\": Qty(value=1.0e-9, min_val=0.1e-9, max_val=5.0e-9, unit=\"s\"),\n",
    "    \"xy_angle\": Qty(value=0.0,min_val=-0.5 * np.pi,max_val=2.5 * np.pi,unit=\"rad\"),\n",
    "    \"freq_offset\": Qty(value=-sideband - 3e6,min_val=-56 * 1e6,max_val=-52 * 1e6,unit=\"Hz 2pi\"),\n",
    "    \"delta\": Qty(value=-1,min_val=-5,max_val=3,unit=\"\"),\n",
    "    \"t_final\": Qty(value=t_swap_gate,min_val=0.5*t_swap_gate,max_val=1.5*t_swap_gate,unit=\"s\")\n",
    "}\n",
    "\n",
    "swap_pulse = pulse.Envelope(\n",
    "    name=\"swap_pulse\",\n",
    "    desc=\"Flattop pluse for SWAP gate\",\n",
    "    params=swap_params,\n",
    "    shape=envelopes.flattop\n",
    ")\n",
    "\n",
    "nodrive_pulse = pulse.Envelope(\n",
    "    name=\"no_drive\",\n",
    "    params={\n",
    "        \"t_final\": Qty(\n",
    "            value=t_swap_gate,\n",
    "            min_val=0.5 * t_swap_gate,\n",
    "            max_val=1.5 * t_swap_gate,\n",
    "            unit=\"s\"\n",
    "        )\n",
    "    },\n",
    "    shape=envelopes.no_drive\n",
    ")\n",
    "\n",
    "\n",
    "tlist = np.linspace(0,t_swap_gate, 1000)\n",
    "#plotSignal(tlist, swap_pulse.shape(tlist, swap_pulse.params).numpy())\n",
    "\n",
    "index = model.get_state_indeces([(1,0),(0,1)])\n",
    "state_energies = [model.eigenframe[i].numpy() for i in index]\n",
    "print(abs(state_energies[0] - state_energies[1])/(2*np.pi*1e9))\n",
    "\n",
    "drive_freq = 9.5105e9\n",
    "carrier_freq = [drive_freq, drive_freq]\n",
    "carrier_parameters = {\n",
    "            \"Q\":{\"freq\": Qty(value=carrier_freq[0], min_val=0.0, max_val=10e9, unit=\"Hz 2pi\"),\n",
    "            \"framechange\": Qty(value=0.0, min_val=-np.pi, max_val=3 * np.pi, unit=\"rad\")},\n",
    "            \"R\": {\"freq\": Qty(value=carrier_freq[1], min_val=0.0, max_val=10e9, unit=\"Hz 2pi\"),\n",
    "            \"framechange\": Qty(value=0.0, min_val=-np.pi, max_val=3 * np.pi, unit=\"rad\")}\n",
    "            }\n",
    "\n",
    "carriers = [\n",
    "    pulse.Carrier(name=\"carrier\", desc=\"Frequency of the local oscillator\", params=carrier_parameters[\"Q\"]),\n",
    "    pulse.Carrier(name=\"carrier\", desc=\"Frequency of the local oscillator\", params=carrier_parameters[\"R\"])\n",
    "]\n",
    "\n",
    "\n",
    "qubit_pulse = copy.deepcopy(swap_pulse)\n",
    "resonator_pulse = copy.deepcopy(swap_pulse)\n",
    "\n",
    "\n",
    "ideal_gate = np.loadtxt(\"ideal_gate.csv\", delimiter=\",\", dtype=np.complex128)\n",
    "\n",
    "swap_gate = gates.Instruction(\n",
    "    name=\"swap\", targets=[0, 1], t_start=0.0, t_end=t_swap_gate, channels=[\"dQ\", \"dR\"], \n",
    "    ideal=ideal_gate\n",
    ")\n",
    "swap_gate.add_component(qubit_pulse, \"dQ\")\n",
    "swap_gate.add_component(copy.deepcopy(carriers[0]), \"dQ\")\n",
    "swap_gate.add_component(resonator_pulse, \"dR\")\n",
    "swap_gate.add_component(copy.deepcopy(carriers[1]), \"dR\")\n",
    "\n",
    "gates_arr = [swap_gate]"
   ]
  },
  {
   "cell_type": "markdown",
   "metadata": {},
   "source": [
    "### Create a PWC swap pulse"
   ]
  },
  {
   "cell_type": "code",
   "execution_count": 11,
   "metadata": {},
   "outputs": [
    {
     "data": {
      "image/png": "[encoded data removed]",
      "text/plain": [
       "<Figure size 432x288 with 1 Axes>"
      ]
     },
     "metadata": {
      "needs_background": "light"
     },
     "output_type": "display_data"
    }
   ],
   "source": [
    "tlist = np.linspace(0,t_swap_gate, 10)\n",
    "swap_gate_shape = swap_pulse.shape(tlist, swap_pulse.params)\n",
    "\n",
    "pwc_params = {\n",
    "    \"t_bin_start\": Qty(value=0.0, min_val=0.0, max_val=1e-9, unit=\"s\"),\n",
    "    \"t_bin_end\": Qty(value=100e-9, min_val=50e-9, max_val=200e-9, unit=\"s\"),\n",
    "    \"inphase\": Qty(value=swap_gate_shape, min_val=0.0, max_val=1.0, unit=\"\") \n",
    "}\n",
    "\n",
    "pwc_swap_pulse = pulse.Envelope(\n",
    "    name=\"swap_pulse\",\n",
    "    desc=\"Flattop pluse for SWAP gate\",\n",
    "    params=pwc_params,\n",
    "    shape=envelopes.pwc_shape\n",
    ")\n",
    "tlist = np.linspace(0,t_swap_gate, 100)\n",
    "plotSignal(tlist, pwc_swap_pulse.shape(tlist, pwc_swap_pulse.params).numpy())\n"
   ]
  },
  {
   "cell_type": "code",
   "execution_count": 12,
   "metadata": {},
   "outputs": [
    {
     "data": {
      "image/png": "[encoded data removed]",
      "text/plain": [
       "<Figure size 432x288 with 1 Axes>"
      ]
     },
     "metadata": {
      "needs_background": "light"
     },
     "output_type": "display_data"
    }
   ],
   "source": [
    "# Gaussian PWC pulse\n",
    "swap_params = {\n",
    "    \"amp\": Qty(value=1.0,min_val=0.2,max_val=1.0,unit=\"V\"),\n",
    "    \"t_final\": Qty(value=t_swap_gate,min_val=100e-9,max_val=300e-9,unit=\"s\"),\n",
    "    \"sigma\": Qty(value=t_swap_gate/4, min_val=t_swap_gate/8, max_val=t_swap_gate/2, unit=\"s\"),\n",
    "    \"xy_angle\": Qty(value=0.0,min_val=-0.5 * np.pi,max_val=2.5 * np.pi,unit=\"rad\"),\n",
    "    \"freq_offset\": Qty(value=-sideband - 3e6,min_val=-56 * 1e6,max_val=-52 * 1e6,unit=\"Hz 2pi\"),\n",
    "    \"delta\": Qty(value=-1,min_val=-5,max_val=3,unit=\"\")\n",
    "}\n",
    "swap_pulse = pulse.Envelope(\n",
    "    name=\"swap_pulse\",\n",
    "    desc=\"Flattop pluse for SWAP gate\",\n",
    "    params=swap_params,\n",
    "    shape=envelopes.gaussian_nonorm\n",
    ")\n",
    "\n",
    "tlist = np.linspace(0,t_swap_gate, 20)\n",
    "swap_gate_shape = swap_pulse.shape(tlist, swap_pulse.params)\n",
    "\n",
    "pwc_params = {\n",
    "    \"t_bin_start\": Qty(value=0.0, min_val=0.0, max_val=1e-9, unit=\"s\"),\n",
    "    \"t_bin_end\": Qty(value=100e-9, min_val=50e-9, max_val=200e-9, unit=\"s\"),\n",
    "    \"inphase\": Qty(value=swap_gate_shape, min_val=0.0, max_val=1.0, unit=\"\") \n",
    "}\n",
    "\n",
    "pwc_swap_pulse = pulse.Envelope(\n",
    "    name=\"swap_pulse_pwc\",\n",
    "    desc=\"Flattop pluse for SWAP gate\",\n",
    "    params=pwc_params,\n",
    "    shape=envelopes.pwc_shape\n",
    ")\n",
    "\n",
    "tlist = np.linspace(0,t_swap_gate, 100)\n",
    "plotSignal(tlist, pwc_swap_pulse.shape(tlist, pwc_swap_pulse.params).numpy())\n",
    "\n"
   ]
  },
  {
   "cell_type": "code",
   "execution_count": 13,
   "metadata": {},
   "outputs": [
    {
     "name": "stdout",
     "output_type": "stream",
     "text": [
      "tf.Tensor(\n",
      "[0.13533528 0.20167293 0.28749857 0.39208051 0.51152434 0.63842347\n",
      " 0.76225957 0.87065963 0.95136118 0.99447515 0.99447515 0.95136118\n",
      " 0.87065963 0.76225957 0.63842347 0.51152434 0.39208051 0.28749857\n",
      " 0.20167293 0.13533528], shape=(20,), dtype=float64)\n"
     ]
    }
   ],
   "source": [
    "print(swap_gate_shape)"
   ]
  },
  {
   "cell_type": "code",
   "execution_count": 14,
   "metadata": {},
   "outputs": [
    {
     "data": {
      "text/plain": [
       "[10]"
      ]
     },
     "execution_count": 14,
     "metadata": {},
     "output_type": "execute_result"
    }
   ],
   "source": [
    "model.get_state_indeces([(1,0)])"
   ]
  },
  {
   "cell_type": "code",
   "execution_count": 15,
   "metadata": {},
   "outputs": [
    {
     "name": "stderr",
     "output_type": "stream",
     "text": [
      "2022-02-10 18:14:38.646045: W tensorflow/core/framework/cpu_allocator_impl.cc:82] Allocation of 288000000 exceeds 10% of free system memory.\n",
      "2022-02-10 18:14:38.836440: W tensorflow/core/framework/cpu_allocator_impl.cc:82] Allocation of 288000000 exceeds 10% of free system memory.\n",
      "2022-02-10 18:14:38.951369: W tensorflow/core/framework/cpu_allocator_impl.cc:82] Allocation of 288000000 exceeds 10% of free system memory.\n",
      "2022-02-10 18:14:39.096161: W tensorflow/core/framework/cpu_allocator_impl.cc:82] Allocation of 288000000 exceeds 10% of free system memory.\n",
      "2022-02-10 18:14:39.253798: W tensorflow/core/framework/cpu_allocator_impl.cc:82] Allocation of 288000000 exceeds 10% of free system memory.\n"
     ]
    }
   ],
   "source": [
    "parameter_map = PMap(instructions=gates_arr, model=model, generator=generator)\n",
    "exp = Exp(pmap=parameter_map)\n",
    "exp.set_opt_gates(['swap[0, 1]'])\n",
    "unitaries = exp.compute_propagators()\n",
    "#plotComplexMatrix(unitaries['swap[0, 1]'].numpy())"
   ]
  },
  {
   "cell_type": "code",
   "execution_count": null,
   "metadata": {},
   "outputs": [],
   "source": [
    "psi_init = [[0] * model.tot_dim]\n",
    "psi_init[0][20] = 1\n",
    "init_state = tf.transpose(tf.constant(psi_init, tf.complex128))\n",
    "sequence = ['swap[0, 1]']\n",
    "plotPopulation(exp=exp, psi_init=init_state, sequence=sequence, usePlotly=False)"
   ]
  },
  {
   "cell_type": "code",
   "execution_count": null,
   "metadata": {},
   "outputs": [],
   "source": [
    "parameter_map.set_opt_map([\n",
    "    [(\"swap[0, 1]\", \"dQ\", \"carrier\", \"freq\")],\n",
    "    [(\"swap[0, 1]\", \"dR\", \"carrier\", \"freq\")]\n",
    "])\n",
    "\n",
    "parameter_map.print_parameters()\n",
    "\n",
    "opt = OptimalControl(\n",
    "    dir_path=\"./output/\",\n",
    "    fid_func=fidelities.average_infid_set_full_hilbert_space,\n",
    "    fid_subspace=[\"Q\", \"R\"],\n",
    "    pmap=parameter_map,\n",
    "    algorithm=algorithms.lbfgs,\n",
    "    options={\"maxfun\": 150},\n",
    "    run_name=\"better_swap\"\n",
    ")\n",
    "exp.set_opt_gates([\"swap[0, 1]\"])\n",
    "opt.set_exp(exp)\n",
    "\n",
    "opt.optimize_controls()\n",
    "opt.current_best_goal"
   ]
  },
  {
   "cell_type": "code",
   "execution_count": null,
   "metadata": {},
   "outputs": [],
   "source": [
    "plotPopulation(exp=exp, psi_init=init_state, sequence=sequence, usePlotly=False)"
   ]
  },
  {
   "cell_type": "code",
   "execution_count": null,
   "metadata": {},
   "outputs": [],
   "source": []
  },
  {
   "cell_type": "markdown",
   "metadata": {},
   "source": [
    "### Rough code\n",
    "\n",
    "Lets do a sweep over the frequencies of the drive and see if it we can see a reset at some point"
   ]
  },
  {
   "cell_type": "code",
   "execution_count": null,
   "metadata": {},
   "outputs": [],
   "source": [
    "labels = list(map(str, model.state_labels))\n",
    "x = np.array([[0]*10, [1]*10, [2]*10]).flatten()\n",
    "y = model.eigenframe.numpy()\n",
    "plt.scatter(x, y)\n",
    "\n",
    "for i, txt in enumerate(labels):\n",
    "    plt.annotate(txt, (x[i], y[i]))"
   ]
  },
  {
   "cell_type": "code",
   "execution_count": null,
   "metadata": {},
   "outputs": [],
   "source": [
    "fig = go.Figure()\n",
    "fig.add_trace(go.Scatter(x=x, y=y/(2*np.pi*1e9), mode=\"markers+text\", text=labels, textposition=\"top center\"))\n",
    "fig.update_layout(height=500, width=500)"
   ]
  },
  {
   "cell_type": "code",
   "execution_count": null,
   "metadata": {},
   "outputs": [],
   "source": [
    "from qutip import *\n",
    "import numpy as np\n",
    "Nq = 3\n",
    "Nr = 10\n",
    "Ideal_gate = np.array(tensor(qeye(Nq), qeye(Nr)) + tensor(basis(Nq,2),basis(Nr,0))*tensor(basis(Nq,0),basis(Nr,1)).dag() + tensor(basis(Nq,0),basis(Nr,1))*tensor(basis(Nq,2),basis(Nr,0)).dag() - tensor(basis(Nq,2),basis(Nr,0))*tensor(basis(Nq,2),basis(Nr,0)).dag() - tensor(basis(Nq,0),basis(Nr,1))*tensor(basis(Nq,0),basis(Nr,1)).dag()) \n",
    "print(Ideal_gate)\n",
    "np.savetxt(\"ideal_gate.csv\", Ideal_gate, delimiter=\",\")"
   ]
  },
  {
   "cell_type": "code",
   "execution_count": null,
   "metadata": {},
   "outputs": [],
   "source": [
    "M = np.loadtxt(\"ideal_gate.csv\", delimiter=\",\", dtype=np.complex128)\n",
    "print(M)"
   ]
  },
  {
   "cell_type": "code",
   "execution_count": 16,
   "metadata": {},
   "outputs": [],
   "source": [
    "S1 = 1e-3*np.array([222.709, 184.484, 385.353, 312.927, 385.534, 784.178, 910.896, 908.711, 817.750, 961.624, 926.969, 963.345, 832.831, 851.991, 763.276, 509.516, 28.116, 354.890, 234.149, 59.627])\n",
    "S2 = 1e-3*np.array([53.001, 68.854, 358.599, 369.641, 765.301, 756.247, 706.647, 932.586, 914.490, 941.380, 714.821, 888.600, 955.149, 925.484, 519.482, 474.930, 225.622, 379.359, 126.467, 73.799]) "
   ]
  },
  {
   "cell_type": "code",
   "execution_count": 19,
   "metadata": {},
   "outputs": [
    {
     "data": {
      "image/png": "[encoded data removed]",
      "text/plain": [
       "<Figure size 432x288 with 1 Axes>"
      ]
     },
     "metadata": {
      "needs_background": "light"
     },
     "output_type": "display_data"
    }
   ],
   "source": [
    "tlist = np.linspace(0,t_swap_gate, 20)\n",
    "plotSignal(tlist,swap_gate_shape.numpy())"
   ]
  },
  {
   "cell_type": "code",
   "execution_count": 20,
   "metadata": {},
   "outputs": [
    {
     "data": {
      "image/png": "[encoded data removed]",
      "text/plain": [
       "<Figure size 432x288 with 1 Axes>"
      ]
     },
     "metadata": {
      "needs_background": "light"
     },
     "output_type": "display_data"
    }
   ],
   "source": [
    "plotSignal(tlist, S1)"
   ]
  },
  {
   "cell_type": "code",
   "execution_count": 21,
   "metadata": {},
   "outputs": [
    {
     "data": {
      "image/png": "[encoded data removed]",
      "text/plain": [
       "<Figure size 432x288 with 1 Axes>"
      ]
     },
     "metadata": {
      "needs_background": "light"
     },
     "output_type": "display_data"
    }
   ],
   "source": [
    "plotSignal(tlist, S2)"
   ]
  },
  {
   "cell_type": "code",
   "execution_count": null,
   "metadata": {},
   "outputs": [],
   "source": []
  }
 ],
 "metadata": {
  "interpreter": {
   "hash": "8aa1d75968c655d2a05e91d52ae949ae0ebc667bde77484337c34e29862845ae"
  },
  "kernelspec": {
   "display_name": "Python 3.8.10 64-bit ('env': venv)",
   "language": "python",
   "name": "python3"
  },
  "language_info": {
   "codemirror_mode": {
    "name": "ipython",
    "version": 3
   },
   "file_extension": ".py",
   "mimetype": "text/x-python",
   "name": "python",
   "nbconvert_exporter": "python",
   "pygments_lexer": "ipython3",
   "version": "3.8.10"
  },
  "orig_nbformat": 4
 },
 "nbformat": 4,
 "nbformat_minor": 2
}
